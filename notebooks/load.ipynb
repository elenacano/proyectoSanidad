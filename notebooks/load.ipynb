{
 "cells": [
  {
   "cell_type": "markdown",
   "metadata": {},
   "source": [
    "# Carga de datos \n"
   ]
  },
  {
   "cell_type": "markdown",
   "metadata": {
    "vscode": {
     "languageId": "plaintext"
    }
   },
   "source": [
    "## Librerias "
   ]
  },
  {
   "cell_type": "code",
   "execution_count": 1,
   "metadata": {},
   "outputs": [],
   "source": [
    "import sys\n",
    "sys.path.append('../')\n",
    "# Importación de las funciones creadas en nuestro archivo de soporte\n",
    "# -----------------------------------------------------------------------\n",
    "\n",
    "from src import soporte_queries_creacion as sqc\n",
    "from src import soporte_queries_insercion as sqi\n",
    "from src import creacion_bbdd as cb\n",
    "\n",
    "\n",
    "# Para trabajar con los DataFrames\n",
    "# -----------------------------------------------------------------------\n",
    "import pandas as pd\n",
    "# Para trabajar con postgresql\n",
    "# -----------------------------------------------------------------------\n",
    "import psycopg2\n",
    "\n",
    "# Para trabajar gestionar los nulos\n",
    "# -----------------------------------------------------------------------\n",
    "import numpy as np\n",
    "\n",
    "# Configuración\n",
    "# -----------------------------------------------------------------------\n",
    "pd.set_option('display.max_columns', None) # para poder visualizar todas las columnas de los DataFrames\n",
    "\n",
    "# Ignorar warings\n",
    "# -----------------------------------------------------------------------\n",
    "import warnings\n",
    "warnings.filterwarnings(\"ignore\")"
   ]
  },
  {
   "cell_type": "markdown",
   "metadata": {},
   "source": [
    "## Creacionde base de datos"
   ]
  },
  {
   "cell_type": "code",
   "execution_count": 2,
   "metadata": {},
   "outputs": [],
   "source": [
    "def establecer_conn(database_name, postgres_pass, usuario, host=\"localhost\"):\n",
    "    \"\"\"\n",
    "    Establece una conexión a una base de datos de PostgreSQL.\n",
    "\n",
    "    Params:\n",
    "        - database_name (str): El nombre de la base de datos a la que conectarse.\n",
    "        - postgres_pass (str): La contraseña del usuario de PostgreSQL.\n",
    "        - usuario (str): El nombre del usuario de PostgreSQL.\n",
    "        - host (str, opcional): La dirección del servidor PostgreSQL. Por defecto es \"localhost\".\n",
    "\n",
    "    Returns:\n",
    "        psycopg2.extensions.connection: La conexión establecida a la base de datos PostgreSQL.\n",
    "\n",
    "    \"\"\"\n",
    "\n",
    "    # Crear la conexión a la base de datos PostgreSQL\n",
    "    conn = psycopg2.connect(\n",
    "        host=host,\n",
    "        user=usuario,\n",
    "        password=postgres_pass,\n",
    "        database=database_name\n",
    "    )\n",
    "\n",
    "    # Establecer la conexión en modo autocommit\n",
    "    conn.autocommit = True # No hace necesario el uso del commit al final de cada sentencia de insert, delete, etc.\n",
    "    \n",
    "    return conn\n",
    "\n",
    "\n",
    "\n",
    "# conexion a postgres\n",
    "conn = establecer_conn(\"postgres\", \"admin\", \"postgres\") # Nos conectamos a la base de datos de postgres por defecto para poder crear la nueva base de datos\n",
    "\n",
    "# creamos un cursor con la conexion que acabamos de crear\n",
    "cur = conn.cursor()\n"
   ]
  },
  {
   "cell_type": "code",
   "execution_count": 3,
   "metadata": {},
   "outputs": [],
   "source": [
    "def crear_db(database_name):\n",
    "    # conexion a postgres\n",
    "    conn = establecer_conn(\"postgres\", \"admin\", \"postgres\") # Nos conectamos a la base de datos de postgres por defecto para poder crear la nueva base de datos\n",
    "    \n",
    "    # creamos un cursor con la conexion que acabamos de crear\n",
    "    cur = conn.cursor()\n",
    "    \n",
    "    cur.execute(\"SELECT 1 FROM pg_database WHERE datname = %s\", (database_name,))\n",
    "    \n",
    "    # Almacenamos en una variable el resultado del fetchone. Si existe tendrá una fila sino será None\n",
    "    bbdd_existe = cur.fetchone()\n",
    "    \n",
    "    # Si bbdd_existe es None, creamos la base de datos\n",
    "    if not bbdd_existe:\n",
    "        cur.execute(f\"CREATE DATABASE {database_name};\")\n",
    "        print(f\"Base de datos {database_name} creada con éxito\")\n",
    "    else:\n",
    "        print(f\"La base de datos ya existe\")\n",
    "        \n",
    "    # Cerramos el cursor y la conexion\n",
    "    cur.close()\n",
    "    conn.close()\n"
   ]
  },
  {
   "cell_type": "markdown",
   "metadata": {},
   "source": [
    "## Creacionde base de Tablas\n"
   ]
  },
  {
   "cell_type": "code",
   "execution_count": 4,
   "metadata": {},
   "outputs": [
    {
     "name": "stdout",
     "output_type": "stream",
     "text": [
      "La base de datos ya existe\n"
     ]
    }
   ],
   "source": [
    "crear_db(\"hospitales\")"
   ]
  },
  {
   "cell_type": "code",
   "execution_count": 5,
   "metadata": {},
   "outputs": [],
   "source": [
    "conexion = establecer_conn(\"hospitales\", \"admin\", \"postgres\")\n",
    "\n",
    "conexion.cursor().execute(sqc.query_creation_hospitales)"
   ]
  },
  {
   "cell_type": "code",
   "execution_count": 6,
   "metadata": {},
   "outputs": [],
   "source": [
    "conexion.cursor().execute(sqc.query_creation_tipo_hosp)\n",
    "conexion.cursor().execute(sqc.query_creation_gastos)\n",
    "conexion.cursor().execute(sqc.query_creation_ingresos)"
   ]
  },
  {
   "cell_type": "code",
   "execution_count": null,
   "metadata": {},
   "outputs": [],
   "source": [
    "df_hospi = pd.read_csv(\"../datos/df_ncodi.csv\", index_col=0)\n",
    "lista_tuplas = [tuple([int(fila)]) for fila in df_hospi.values]\n",
    "cb.dbeaver_commitmany(conexion, sqi.query_carga_hospitales, lista_tuplas)"
   ]
  },
  {
   "cell_type": "code",
   "execution_count": null,
   "metadata": {},
   "outputs": [],
   "source": [
    "df_hospi = pd.read_csv(\"../datos/df_tipo_hospitalizacion.csv\", index_col=0)\n",
    "lista_tuplas = [tuple(fila) for fila in df_hospi.values]\n",
    "cb.dbeaver_commitmany(conexion, sqi.query_carga_tipo_hospi, lista_tuplas)"
   ]
  },
  {
   "cell_type": "code",
   "execution_count": null,
   "metadata": {},
   "outputs": [],
   "source": [
    "df_ingresos = pd.read_csv(\"../datos/df_ingresos_final.csv\", index_col=0)\n",
    "lista_tuplas = [tuple(fila) for fila in df_ingresos.values]\n",
    "tuplas_float = [tuple(float(valor) for valor in tupla) for tupla in lista_tuplas]\n",
    "\n",
    "cb.dbeaver_commitmany(conexion, sqi.query_carga_ingresos, tuplas_float)"
   ]
  },
  {
   "cell_type": "code",
   "execution_count": 30,
   "metadata": {},
   "outputs": [
    {
     "ename": "NumericValueOutOfRange",
     "evalue": "entero fuera de rango\n",
     "output_type": "error",
     "traceback": [
      "\u001b[1;31m---------------------------------------------------------------------------\u001b[0m",
      "\u001b[1;31mNumericValueOutOfRange\u001b[0m                    Traceback (most recent call last)",
      "Cell \u001b[1;32mIn[30], line 5\u001b[0m\n\u001b[0;32m      2\u001b[0m lista_tuplas \u001b[38;5;241m=\u001b[39m [\u001b[38;5;28mtuple\u001b[39m(fila) \u001b[38;5;28;01mfor\u001b[39;00m fila \u001b[38;5;129;01min\u001b[39;00m df_gastos\u001b[38;5;241m.\u001b[39mvalues]\n\u001b[0;32m      3\u001b[0m tuplas_float \u001b[38;5;241m=\u001b[39m [\u001b[38;5;28mtuple\u001b[39m(\u001b[38;5;28mfloat\u001b[39m(valor) \u001b[38;5;28;01mfor\u001b[39;00m valor \u001b[38;5;129;01min\u001b[39;00m tupla) \u001b[38;5;28;01mfor\u001b[39;00m tupla \u001b[38;5;129;01min\u001b[39;00m lista_tuplas]\n\u001b[1;32m----> 5\u001b[0m \u001b[43mcb\u001b[49m\u001b[38;5;241;43m.\u001b[39;49m\u001b[43mdbeaver_commitmany\u001b[49m\u001b[43m(\u001b[49m\u001b[43mconexion\u001b[49m\u001b[43m,\u001b[49m\u001b[43m \u001b[49m\u001b[43msqi\u001b[49m\u001b[38;5;241;43m.\u001b[39;49m\u001b[43mquery_carga_gastos\u001b[49m\u001b[43m,\u001b[49m\u001b[43m \u001b[49m\u001b[43mtuplas_float\u001b[49m\u001b[43m)\u001b[49m\n",
      "File \u001b[1;32mc:\\Users\\Elena\\OneDrive\\Desktop\\Hackio\\Modulos\\Modulo5\\1-Teoria\\proyectoSanidad\\notebooks\\..\\src\\creacion_bbdd.py:67\u001b[0m, in \u001b[0;36mdbeaver_commitmany\u001b[1;34m(conexion, query, *values)\u001b[0m\n\u001b[0;32m     55\u001b[0m \u001b[38;5;250m\u001b[39m\u001b[38;5;124;03m\"\"\"\u001b[39;00m\n\u001b[0;32m     56\u001b[0m \u001b[38;5;124;03mEjecuta múltiples consultas y realiza un commit de los cambios.\u001b[39;00m\n\u001b[0;32m     57\u001b[0m \n\u001b[1;32m   (...)\u001b[0m\n\u001b[0;32m     64\u001b[0m \u001b[38;5;124;03m    str: Un mensaje de confirmación después del commit.\u001b[39;00m\n\u001b[0;32m     65\u001b[0m \u001b[38;5;124;03m\"\"\"\u001b[39;00m\n\u001b[0;32m     66\u001b[0m cursor \u001b[38;5;241m=\u001b[39m conexion\u001b[38;5;241m.\u001b[39mcursor()\n\u001b[1;32m---> 67\u001b[0m \u001b[43mcursor\u001b[49m\u001b[38;5;241;43m.\u001b[39;49m\u001b[43mexecutemany\u001b[49m\u001b[43m(\u001b[49m\u001b[43mquery\u001b[49m\u001b[43m,\u001b[49m\u001b[43m \u001b[49m\u001b[38;5;241;43m*\u001b[39;49m\u001b[43mvalues\u001b[49m\u001b[43m)\u001b[49m\n\u001b[0;32m     68\u001b[0m conexion\u001b[38;5;241m.\u001b[39mcommit()\n",
      "\u001b[1;31mNumericValueOutOfRange\u001b[0m: entero fuera de rango\n"
     ]
    }
   ],
   "source": [
    "df_gastos = pd.read_csv(\"../datos/df_gastos_final.csv\", index_col=0)\n",
    "lista_tuplas = [tuple(fila) for fila in df_gastos.values]\n",
    "tuplas_float = [tuple(float(valor) for valor in tupla) for tupla in lista_tuplas]\n",
    "\n",
    "cb.dbeaver_commitmany(conexion, sqi.query_carga_gastos, tuplas_float)"
   ]
  },
  {
   "cell_type": "code",
   "execution_count": 31,
   "metadata": {},
   "outputs": [
    {
     "data": {
      "text/plain": [
       "año                    int64\n",
       "totalcompra            int64\n",
       "producfarma          float64\n",
       "materialsani           int64\n",
       "implantes            float64\n",
       "restomateriasani     float64\n",
       "servcontratado       float64\n",
       "trabajocontratado    float64\n",
       "xrestocompras        float64\n",
       "variaexistencias     float64\n",
       "servexteriores         int64\n",
       "sumistro             float64\n",
       "xrestoserviexter     float64\n",
       "gastopersonal          int64\n",
       "sueldos                int64\n",
       "indemnizacion        float64\n",
       "segsocempresa          int64\n",
       "otrgassocial         float64\n",
       "dotaamortizacion     float64\n",
       "perdidadeterioro     float64\n",
       "xrestogasto          float64\n",
       "totcompragasto         int64\n",
       "ncodi                float64\n",
       "dtype: object"
      ]
     },
     "execution_count": 31,
     "metadata": {},
     "output_type": "execute_result"
    }
   ],
   "source": [
    "df_gastos.dtypes"
   ]
  }
 ],
 "metadata": {
  "kernelspec": {
   "display_name": "Python 3",
   "language": "python",
   "name": "python3"
  },
  "language_info": {
   "codemirror_mode": {
    "name": "ipython",
    "version": 3
   },
   "file_extension": ".py",
   "mimetype": "text/x-python",
   "name": "python",
   "nbconvert_exporter": "python",
   "pygments_lexer": "ipython3",
   "version": "3.11.9"
  }
 },
 "nbformat": 4,
 "nbformat_minor": 2
}
