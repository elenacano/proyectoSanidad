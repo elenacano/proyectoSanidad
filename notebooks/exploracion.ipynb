{
 "cells": [
  {
   "cell_type": "code",
   "execution_count": 1,
   "metadata": {},
   "outputs": [],
   "source": [
    "import pandas as pd\n",
    "import pandas as pd\n",
    "import numpy as np\n",
    "from geopy.geocoders import Nominatim\n",
    "import psycopg2\n",
    "from psycopg2 import OperationalError, errorcodes, errors"
   ]
  },
  {
   "cell_type": "code",
   "execution_count": 2,
   "metadata": {},
   "outputs": [
    {
     "data": {
      "text/html": [
       "<div>\n",
       "<style scoped>\n",
       "    .dataframe tbody tr th:only-of-type {\n",
       "        vertical-align: middle;\n",
       "    }\n",
       "\n",
       "    .dataframe tbody tr th {\n",
       "        vertical-align: top;\n",
       "    }\n",
       "\n",
       "    .dataframe thead th {\n",
       "        text-align: right;\n",
       "    }\n",
       "</style>\n",
       "<table border=\"1\" class=\"dataframe\">\n",
       "  <thead>\n",
       "    <tr style=\"text-align: right;\">\n",
       "      <th></th>\n",
       "      <th>año</th>\n",
       "      <th>ncodi</th>\n",
       "      <th>totalcompra</th>\n",
       "      <th>producfarma</th>\n",
       "      <th>materialsani</th>\n",
       "      <th>implantes</th>\n",
       "      <th>restomateriasani</th>\n",
       "      <th>servcontratado</th>\n",
       "      <th>trabajocontratado</th>\n",
       "      <th>xrestocompras</th>\n",
       "      <th>...</th>\n",
       "      <th>xrestoserviexter</th>\n",
       "      <th>gastopersonal</th>\n",
       "      <th>sueldos</th>\n",
       "      <th>indemnizacion</th>\n",
       "      <th>segsocempresa</th>\n",
       "      <th>otrgassocial</th>\n",
       "      <th>dotaamortizacion</th>\n",
       "      <th>perdidadeterioro</th>\n",
       "      <th>xrestogasto</th>\n",
       "      <th>totcompragasto</th>\n",
       "    </tr>\n",
       "  </thead>\n",
       "  <tbody>\n",
       "    <tr>\n",
       "      <th>0</th>\n",
       "      <td>2020</td>\n",
       "      <td>113.0</td>\n",
       "      <td>1535894</td>\n",
       "      <td>344330.0</td>\n",
       "      <td>169443</td>\n",
       "      <td>0.0</td>\n",
       "      <td>169443.0</td>\n",
       "      <td>1877.0</td>\n",
       "      <td>678201.0</td>\n",
       "      <td>342043.0</td>\n",
       "      <td>...</td>\n",
       "      <td>506018.0</td>\n",
       "      <td>26209836</td>\n",
       "      <td>19875799</td>\n",
       "      <td>349499.0</td>\n",
       "      <td>5984538</td>\n",
       "      <td>0.0</td>\n",
       "      <td>298707.0</td>\n",
       "      <td>-6504.0</td>\n",
       "      <td>50165.0</td>\n",
       "      <td>28810972</td>\n",
       "    </tr>\n",
       "  </tbody>\n",
       "</table>\n",
       "<p>1 rows × 23 columns</p>\n",
       "</div>"
      ],
      "text/plain": [
       "    año  ncodi  totalcompra  producfarma  materialsani  implantes  \\\n",
       "0  2020  113.0      1535894     344330.0        169443        0.0   \n",
       "\n",
       "   restomateriasani  servcontratado  trabajocontratado  xrestocompras  ...  \\\n",
       "0          169443.0          1877.0           678201.0       342043.0  ...   \n",
       "\n",
       "   xrestoserviexter  gastopersonal   sueldos  indemnizacion  segsocempresa  \\\n",
       "0          506018.0       26209836  19875799       349499.0        5984538   \n",
       "\n",
       "   otrgassocial  dotaamortizacion  perdidadeterioro  xrestogasto  \\\n",
       "0           0.0          298707.0           -6504.0      50165.0   \n",
       "\n",
       "   totcompragasto  \n",
       "0        28810972  \n",
       "\n",
       "[1 rows x 23 columns]"
      ]
     },
     "execution_count": 2,
     "metadata": {},
     "output_type": "execute_result"
    }
   ],
   "source": [
    "df_gastos = pd.read_csv(\"../datos/gastos.csv\")\n",
    "df_gastos.head(1)"
   ]
  },
  {
   "cell_type": "code",
   "execution_count": 3,
   "metadata": {},
   "outputs": [
    {
     "data": {
      "text/html": [
       "<div>\n",
       "<style scoped>\n",
       "    .dataframe tbody tr th:only-of-type {\n",
       "        vertical-align: middle;\n",
       "    }\n",
       "\n",
       "    .dataframe tbody tr th {\n",
       "        vertical-align: top;\n",
       "    }\n",
       "\n",
       "    .dataframe thead th {\n",
       "        text-align: right;\n",
       "    }\n",
       "</style>\n",
       "<table border=\"1\" class=\"dataframe\">\n",
       "  <thead>\n",
       "    <tr style=\"text-align: right;\">\n",
       "      <th></th>\n",
       "      <th>particulares</th>\n",
       "      <th>aseguradoras</th>\n",
       "      <th>aseguradoras_enfermedad</th>\n",
       "      <th>aseguradoreas_trafico</th>\n",
       "      <th>mutuas</th>\n",
       "      <th>tipo</th>\n",
       "      <th>año</th>\n",
       "      <th>ncodi</th>\n",
       "    </tr>\n",
       "  </thead>\n",
       "  <tbody>\n",
       "    <tr>\n",
       "      <th>0</th>\n",
       "      <td>0.0</td>\n",
       "      <td>103677.0</td>\n",
       "      <td>64383.0</td>\n",
       "      <td>39294.0</td>\n",
       "      <td>61456.0</td>\n",
       "      <td>Hospital</td>\n",
       "      <td>2013</td>\n",
       "      <td>990,00</td>\n",
       "    </tr>\n",
       "  </tbody>\n",
       "</table>\n",
       "</div>"
      ],
      "text/plain": [
       "   particulares  aseguradoras  aseguradoras_enfermedad  aseguradoreas_trafico  \\\n",
       "0           0.0      103677.0                  64383.0                39294.0   \n",
       "\n",
       "    mutuas      tipo   año   ncodi  \n",
       "0  61456.0  Hospital  2013  990,00  "
      ]
     },
     "execution_count": 3,
     "metadata": {},
     "output_type": "execute_result"
    }
   ],
   "source": [
    "df_ingresos = pd.read_csv(\"../datos/ingresos.csv\", index_col=0)\n",
    "df_ingresos.head(1)"
   ]
  },
  {
   "cell_type": "code",
   "execution_count": 4,
   "metadata": {},
   "outputs": [
    {
     "data": {
      "text/plain": [
       "particulares               float64\n",
       "aseguradoras               float64\n",
       "aseguradoras_enfermedad    float64\n",
       "aseguradoreas_trafico      float64\n",
       "mutuas                     float64\n",
       "tipo                        object\n",
       "año                          int64\n",
       "ncodi                       object\n",
       "dtype: object"
      ]
     },
     "execution_count": 4,
     "metadata": {},
     "output_type": "execute_result"
    }
   ],
   "source": [
    "df_ingresos.dtypes"
   ]
  },
  {
   "cell_type": "markdown",
   "metadata": {},
   "source": [
    "Eliminamos las filas cuyo ncodi es nan y las ponemos de tipo int."
   ]
  },
  {
   "cell_type": "code",
   "execution_count": 5,
   "metadata": {},
   "outputs": [],
   "source": [
    "df_ingresos = df_ingresos[df_ingresos[\"ncodi\"].notna()]"
   ]
  },
  {
   "cell_type": "code",
   "execution_count": 6,
   "metadata": {},
   "outputs": [],
   "source": [
    "df_ingresos[\"ncodi\"] = df_ingresos[\"ncodi\"].str.split(\",\", expand=True)[0]\n",
    "df_ingresos[\"ncodi\"] = df_ingresos[\"ncodi\"].str.split(\".\", expand=True)[0]\n",
    "df_ingresos[\"ncodi\"] = df_ingresos[\"ncodi\"].astype(int)"
   ]
  },
  {
   "cell_type": "code",
   "execution_count": 7,
   "metadata": {},
   "outputs": [
    {
     "data": {
      "text/plain": [
       "dtype('int64')"
      ]
     },
     "execution_count": 7,
     "metadata": {},
     "output_type": "execute_result"
    }
   ],
   "source": [
    "df_ingresos[\"ncodi\"].dtype"
   ]
  },
  {
   "cell_type": "code",
   "execution_count": 8,
   "metadata": {},
   "outputs": [
    {
     "data": {
      "text/plain": [
       "particulares               float64\n",
       "aseguradoras               float64\n",
       "aseguradoras_enfermedad    float64\n",
       "aseguradoreas_trafico      float64\n",
       "mutuas                     float64\n",
       "tipo                        object\n",
       "año                          int64\n",
       "ncodi                        int64\n",
       "dtype: object"
      ]
     },
     "execution_count": 8,
     "metadata": {},
     "output_type": "execute_result"
    }
   ],
   "source": [
    "df_ingresos.dtypes"
   ]
  },
  {
   "cell_type": "markdown",
   "metadata": {},
   "source": [
    "Vamos a sustituir el tipo por su id:"
   ]
  },
  {
   "cell_type": "code",
   "execution_count": 9,
   "metadata": {},
   "outputs": [],
   "source": [
    "df_tipo_hospi = pd.DataFrame(df_ingresos[\"tipo\"].unique())\n",
    "df_tipo_hospi.index += 1\n",
    "df_tipo_hospi = df_tipo_hospi.reset_index().rename(columns={\"index\":\"tipo_id\", 0:\"nombre\"})"
   ]
  },
  {
   "cell_type": "code",
   "execution_count": 10,
   "metadata": {},
   "outputs": [],
   "source": [
    "df_tipo_hospi.to_csv(\"../datos/df_tipo_hospitalizacion.csv\")"
   ]
  },
  {
   "cell_type": "markdown",
   "metadata": {},
   "source": [
    "Sustituimos:"
   ]
  },
  {
   "cell_type": "code",
   "execution_count": 11,
   "metadata": {},
   "outputs": [
    {
     "data": {
      "text/html": [
       "<div>\n",
       "<style scoped>\n",
       "    .dataframe tbody tr th:only-of-type {\n",
       "        vertical-align: middle;\n",
       "    }\n",
       "\n",
       "    .dataframe tbody tr th {\n",
       "        vertical-align: top;\n",
       "    }\n",
       "\n",
       "    .dataframe thead th {\n",
       "        text-align: right;\n",
       "    }\n",
       "</style>\n",
       "<table border=\"1\" class=\"dataframe\">\n",
       "  <thead>\n",
       "    <tr style=\"text-align: right;\">\n",
       "      <th></th>\n",
       "      <th>particulares</th>\n",
       "      <th>aseguradoras</th>\n",
       "      <th>aseguradoras_enfermedad</th>\n",
       "      <th>aseguradoreas_trafico</th>\n",
       "      <th>mutuas</th>\n",
       "      <th>año</th>\n",
       "      <th>ncodi</th>\n",
       "      <th>tipo_id</th>\n",
       "    </tr>\n",
       "  </thead>\n",
       "  <tbody>\n",
       "    <tr>\n",
       "      <th>0</th>\n",
       "      <td>0.0</td>\n",
       "      <td>103677.0</td>\n",
       "      <td>64383.0</td>\n",
       "      <td>39294.0</td>\n",
       "      <td>61456.0</td>\n",
       "      <td>2013</td>\n",
       "      <td>990</td>\n",
       "      <td>1</td>\n",
       "    </tr>\n",
       "    <tr>\n",
       "      <th>1</th>\n",
       "      <td>324687.0</td>\n",
       "      <td>478280.0</td>\n",
       "      <td>392084.0</td>\n",
       "      <td>86196.0</td>\n",
       "      <td>484228.0</td>\n",
       "      <td>2013</td>\n",
       "      <td>680</td>\n",
       "      <td>1</td>\n",
       "    </tr>\n",
       "    <tr>\n",
       "      <th>2</th>\n",
       "      <td>793512.0</td>\n",
       "      <td>1803352.0</td>\n",
       "      <td>1803352.0</td>\n",
       "      <td>0.0</td>\n",
       "      <td>20402.0</td>\n",
       "      <td>2013</td>\n",
       "      <td>411</td>\n",
       "      <td>1</td>\n",
       "    </tr>\n",
       "    <tr>\n",
       "      <th>3</th>\n",
       "      <td>0.0</td>\n",
       "      <td>0.0</td>\n",
       "      <td>0.0</td>\n",
       "      <td>0.0</td>\n",
       "      <td>0.0</td>\n",
       "      <td>2013</td>\n",
       "      <td>241</td>\n",
       "      <td>1</td>\n",
       "    </tr>\n",
       "    <tr>\n",
       "      <th>4</th>\n",
       "      <td>24406.0</td>\n",
       "      <td>63557.0</td>\n",
       "      <td>55091.0</td>\n",
       "      <td>8466.0</td>\n",
       "      <td>44106.0</td>\n",
       "      <td>2013</td>\n",
       "      <td>558</td>\n",
       "      <td>1</td>\n",
       "    </tr>\n",
       "    <tr>\n",
       "      <th>...</th>\n",
       "      <td>...</td>\n",
       "      <td>...</td>\n",
       "      <td>...</td>\n",
       "      <td>...</td>\n",
       "      <td>...</td>\n",
       "      <td>...</td>\n",
       "      <td>...</td>\n",
       "      <td>...</td>\n",
       "    </tr>\n",
       "    <tr>\n",
       "      <th>55303</th>\n",
       "      <td>0.0</td>\n",
       "      <td>0.0</td>\n",
       "      <td>0.0</td>\n",
       "      <td>0.0</td>\n",
       "      <td>0.0</td>\n",
       "      <td>2016</td>\n",
       "      <td>970</td>\n",
       "      <td>6</td>\n",
       "    </tr>\n",
       "    <tr>\n",
       "      <th>55304</th>\n",
       "      <td>0.0</td>\n",
       "      <td>0.0</td>\n",
       "      <td>0.0</td>\n",
       "      <td>0.0</td>\n",
       "      <td>0.0</td>\n",
       "      <td>2016</td>\n",
       "      <td>1019</td>\n",
       "      <td>6</td>\n",
       "    </tr>\n",
       "    <tr>\n",
       "      <th>55305</th>\n",
       "      <td>0.0</td>\n",
       "      <td>0.0</td>\n",
       "      <td>0.0</td>\n",
       "      <td>0.0</td>\n",
       "      <td>0.0</td>\n",
       "      <td>2016</td>\n",
       "      <td>1016</td>\n",
       "      <td>6</td>\n",
       "    </tr>\n",
       "    <tr>\n",
       "      <th>55306</th>\n",
       "      <td>0.0</td>\n",
       "      <td>0.0</td>\n",
       "      <td>0.0</td>\n",
       "      <td>0.0</td>\n",
       "      <td>0.0</td>\n",
       "      <td>2016</td>\n",
       "      <td>1047</td>\n",
       "      <td>6</td>\n",
       "    </tr>\n",
       "    <tr>\n",
       "      <th>55307</th>\n",
       "      <td>0.0</td>\n",
       "      <td>0.0</td>\n",
       "      <td>0.0</td>\n",
       "      <td>0.0</td>\n",
       "      <td>0.0</td>\n",
       "      <td>2016</td>\n",
       "      <td>635</td>\n",
       "      <td>6</td>\n",
       "    </tr>\n",
       "  </tbody>\n",
       "</table>\n",
       "<p>55308 rows × 8 columns</p>\n",
       "</div>"
      ],
      "text/plain": [
       "       particulares  aseguradoras  aseguradoras_enfermedad  \\\n",
       "0               0.0      103677.0                  64383.0   \n",
       "1          324687.0      478280.0                 392084.0   \n",
       "2          793512.0     1803352.0                1803352.0   \n",
       "3               0.0           0.0                      0.0   \n",
       "4           24406.0       63557.0                  55091.0   \n",
       "...             ...           ...                      ...   \n",
       "55303           0.0           0.0                      0.0   \n",
       "55304           0.0           0.0                      0.0   \n",
       "55305           0.0           0.0                      0.0   \n",
       "55306           0.0           0.0                      0.0   \n",
       "55307           0.0           0.0                      0.0   \n",
       "\n",
       "       aseguradoreas_trafico    mutuas   año  ncodi  tipo_id  \n",
       "0                    39294.0   61456.0  2013    990        1  \n",
       "1                    86196.0  484228.0  2013    680        1  \n",
       "2                        0.0   20402.0  2013    411        1  \n",
       "3                        0.0       0.0  2013    241        1  \n",
       "4                     8466.0   44106.0  2013    558        1  \n",
       "...                      ...       ...   ...    ...      ...  \n",
       "55303                    0.0       0.0  2016    970        6  \n",
       "55304                    0.0       0.0  2016   1019        6  \n",
       "55305                    0.0       0.0  2016   1016        6  \n",
       "55306                    0.0       0.0  2016   1047        6  \n",
       "55307                    0.0       0.0  2016    635        6  \n",
       "\n",
       "[55308 rows x 8 columns]"
      ]
     },
     "execution_count": 11,
     "metadata": {},
     "output_type": "execute_result"
    }
   ],
   "source": [
    "df_ingresos = df_ingresos.merge(df_tipo_hospi, how=\"left\", left_on=\"tipo\", right_on=\"nombre\").drop(columns=[\"tipo\", \"nombre\"])\n",
    "df_ingresos"
   ]
  },
  {
   "cell_type": "code",
   "execution_count": 12,
   "metadata": {},
   "outputs": [
    {
     "data": {
      "text/plain": [
       "Index(['particulares', 'aseguradoras', 'aseguradoras_enfermedad',\n",
       "       'aseguradoreas_trafico', 'mutuas', 'año', 'ncodi', 'tipo_id'],\n",
       "      dtype='object')"
      ]
     },
     "execution_count": 12,
     "metadata": {},
     "output_type": "execute_result"
    }
   ],
   "source": [
    "df_ingresos.columns"
   ]
  },
  {
   "cell_type": "markdown",
   "metadata": {},
   "source": [
    "Reordenamos los indices:"
   ]
  },
  {
   "cell_type": "code",
   "execution_count": 13,
   "metadata": {},
   "outputs": [],
   "source": [
    "df_ingresos = df_ingresos.reindex(columns=['año', 'particulares', 'aseguradoras', 'aseguradoras_enfermedad',\n",
    "       'aseguradoreas_trafico', 'mutuas', 'ncodi', 'tipo_id'])"
   ]
  },
  {
   "cell_type": "code",
   "execution_count": 14,
   "metadata": {},
   "outputs": [],
   "source": [
    "df_ingresos.to_csv(\"../datos/df_ingresos_final.csv\")"
   ]
  },
  {
   "cell_type": "code",
   "execution_count": null,
   "metadata": {},
   "outputs": [],
   "source": []
  }
 ],
 "metadata": {
  "kernelspec": {
   "display_name": "Python 3",
   "language": "python",
   "name": "python3"
  },
  "language_info": {
   "codemirror_mode": {
    "name": "ipython",
    "version": 3
   },
   "file_extension": ".py",
   "mimetype": "text/x-python",
   "name": "python",
   "nbconvert_exporter": "python",
   "pygments_lexer": "ipython3",
   "version": "3.11.9"
  }
 },
 "nbformat": 4,
 "nbformat_minor": 2
}
